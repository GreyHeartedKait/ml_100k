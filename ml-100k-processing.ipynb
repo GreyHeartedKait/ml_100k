{
 "cells": [
  {
   "cell_type": "markdown",
   "metadata": {},
   "source": [
    "# Movie lens 100k Data Set - Data Analysis and Processing\n",
    "**This data set contains:**\n",
    "* 100,000 ratings (1-5) from 943 users on 1682 movies. \n",
    "* Each user has rated at least 20 movies. \n",
    "* Simple demographic info for the users (age, gender, occupation, zip)\n",
    "\n",
    "**Context:**\n",
    "* Collected through the MovieLens web site (movielens.umn.edu) during the seven-month period from September 19th, 1997 through April 22nd, 1998."
   ]
  },
  {
   "cell_type": "markdown",
   "metadata": {},
   "source": [
    "## Files\n",
    "**u.data**\n",
    "* The full u data set, 100000 ratings by 943 users on 1682 items.\n",
    "* Each user has rated at least 20 movies.  \n",
    "* Users and items are numbered consecutively from 1.\n",
    "* The data is randomly ordered.\n",
    "* user id | item id | rating | timestamp.\n",
    "\n",
    "**u.item**\n",
    "* Information about the items (movies).\n",
    "* movie id | movie title | release date | video release date |\n",
    "    IMDb URL | unknown | Action | Adventure | Animation |\n",
    "    Children's | Comedy | Crime | Documentary | Drama | Fantasy |\n",
    "    Film-Noir | Horror | Musical | Mystery | Romance | Sci-Fi |\n",
    "    thriller | War | Western |\n",
    "* The last 19 fields are the genres, a 1 indicates the movie is of that genre, a 0 indicates it is not; movies can be in several genres at once. The movie ids are the ones used in the u.data data set.\n",
    "\n",
    "**u.genre**\n",
    "* Numbered list of genres.\n",
    "\n",
    "**u.user** \n",
    "* Demographic information about the users\n",
    "              separated list of\n",
    "              user id | age | gender | occupation | zip code\n",
    "              The user ids are the ones used in the u.data data set.\n",
    "\n",
    "There are also pre-split 5-fold validation (u1/u2/u3/u4/u5) sets and a disjoint set of testing data (ua / ub)."
   ]
  },
  {
   "cell_type": "markdown",
   "metadata": {},
   "source": [
    "## Data Analysis"
   ]
  },
  {
   "cell_type": "code",
   "execution_count": 16,
   "metadata": {},
   "outputs": [],
   "source": [
    "import numpy as np\n",
    "import pandas as pd\n",
    "\n",
    "import matplotlib.pyplot as plt \n",
    "import seaborn as sns"
   ]
  },
  {
   "cell_type": "markdown",
   "metadata": {},
   "source": [
    "### Read in data"
   ]
  },
  {
   "cell_type": "code",
   "execution_count": 4,
   "metadata": {},
   "outputs": [],
   "source": [
    "rating_df= pd.read_csv(\"u.data\", sep=\"\\t\", names=[\"user_id\", \"item_id\", \"rating\", \"timestamp\"])\n",
    "\n",
    "item_df = pd.read_csv(\"u.item\", sep=\"|\",encoding=\"latin-1\", \n",
    "                      names=[\"movie_id\", \"movie_title\", \"release_date\", \"video_release_date\",\n",
    "                             \"imbd_url\", \"unknown\", \"action\", \"adventure\", \"animation\",\n",
    "                             \"childrens\", \"comedy\", \"crime\", \"documentary\", \"drama\", \"fantasy\", \n",
    "                             \"film_noir\", \"horror\", \"musical\", \"mystery\", \"romance\", \n",
    "                             \"sci-fi\", \"thriller\", \"war\", \"western\"])\n",
    "\n",
    "user_df = pd.read_csv(\"u.user\", sep=\"|\", encoding=\"latin-1\", names=[\"user_id\", \"age\", \"gender\",\n",
    "                                                                            \"occupation\", \"zip_code\"])"
   ]
  },
  {
   "cell_type": "code",
   "execution_count": 11,
   "metadata": {},
   "outputs": [
    {
     "name": "stdout",
     "output_type": "stream",
     "text": [
      "Ratings Matrix\n",
      "   user_id  item_id  rating  timestamp\n",
      "0      196      242       3  881250949\n",
      "1      186      302       3  891717742\n",
      "2       22      377       1  878887116\n",
      "3      244       51       2  880606923\n",
      "4      166      346       1  886397596 \n",
      "\n",
      "Movie Data\n",
      "   movie_id        movie_title\n",
      "0         1   Toy Story (1995)\n",
      "1         2   GoldenEye (1995)\n",
      "2         3  Four Rooms (1995)\n",
      "3         4  Get Shorty (1995)\n",
      "4         5     Copycat (1995) \n",
      "\n",
      "User Data\n",
      "   user_id  age gender  occupation zip_code\n",
      "0        1   24      M  technician    85711\n",
      "1        2   53      F       other    94043\n",
      "2        3   23      M      writer    32067\n",
      "3        4   24      M  technician    43537\n",
      "4        5   33      F       other    15213\n"
     ]
    }
   ],
   "source": [
    "print(\"Ratings Matrix\")\n",
    "print(rating_df.head(), '\\n')\n",
    "\n",
    "print('Movie Data')\n",
    "print(item_df[[\"movie_id\", \"movie_title\"]].head(), '\\n')\n",
    "\n",
    "print('User Data')\n",
    "print(user_df.head())\n"
   ]
  },
  {
   "cell_type": "markdown",
   "metadata": {},
   "source": [
    "### Summary Statistics\n",
    "* Number of movies / users.\n",
    "* Summary statistics of movie each genre, release dates\n",
    "* Summary statistics for user age, gender, occupation"
   ]
  },
  {
   "cell_type": "code",
   "execution_count": 35,
   "metadata": {},
   "outputs": [
    {
     "name": "stdout",
     "output_type": "stream",
     "text": [
      "This dataset surveys: 1682 movies.\n"
     ]
    }
   ],
   "source": [
    "# Number of movies\n",
    "print(\"This dataset surveys:\", len(item_df), \"movies.\")"
   ]
  },
  {
   "cell_type": "code",
   "execution_count": 38,
   "metadata": {},
   "outputs": [
    {
     "name": "stdout",
     "output_type": "stream",
     "text": [
      "unknown          2\n",
      "action         251\n",
      "adventure      135\n",
      "animation       42\n",
      "childrens      122\n",
      "comedy         505\n",
      "crime          109\n",
      "documentary     50\n",
      "drama          725\n",
      "fantasy         22\n",
      "film_noir       24\n",
      "horror          92\n",
      "musical         56\n",
      "mystery         61\n",
      "romance        247\n",
      "sci-fi         101\n",
      "thriller       251\n",
      "war             71\n",
      "western         27\n",
      "dtype: int64\n"
     ]
    }
   ],
   "source": [
    "# Number of each genre\n",
    "num_genres = item_df[[\"unknown\", \"action\", \"adventure\", \"animation\",\n",
    "                             \"childrens\", \"comedy\", \"crime\", \"documentary\", \"drama\", \"fantasy\", \n",
    "                             \"film_noir\", \"horror\", \"musical\", \"mystery\", \"romance\", \n",
    "                             \"sci-fi\", \"thriller\", \"war\", \"western\"]].sum()\n",
    "\n",
    "print(num_genres)"
   ]
  },
  {
   "cell_type": "code",
   "execution_count": 39,
   "metadata": {},
   "outputs": [
    {
     "name": "stderr",
     "output_type": "stream",
     "text": [
      "c:\\Users\\Elizabeth\\anaconda3\\envs\\data-processing\\Lib\\site-packages\\seaborn\\_oldcore.py:1498: FutureWarning: is_categorical_dtype is deprecated and will be removed in a future version. Use isinstance(dtype, CategoricalDtype) instead\n",
      "  if pd.api.types.is_categorical_dtype(vector):\n",
      "c:\\Users\\Elizabeth\\anaconda3\\envs\\data-processing\\Lib\\site-packages\\seaborn\\_oldcore.py:1498: FutureWarning: is_categorical_dtype is deprecated and will be removed in a future version. Use isinstance(dtype, CategoricalDtype) instead\n",
      "  if pd.api.types.is_categorical_dtype(vector):\n",
      "c:\\Users\\Elizabeth\\anaconda3\\envs\\data-processing\\Lib\\site-packages\\seaborn\\_oldcore.py:1498: FutureWarning: is_categorical_dtype is deprecated and will be removed in a future version. Use isinstance(dtype, CategoricalDtype) instead\n",
      "  if pd.api.types.is_categorical_dtype(vector):\n"
     ]
    },
    {
     "data": {
      "text/plain": [
       "<Axes: >"
      ]
     },
     "execution_count": 39,
     "metadata": {},
     "output_type": "execute_result"
    },
    {
     "data": {
      "image/png": "[encoded data removed]",
      "text/plain": [
       "<Figure size 640x480 with 1 Axes>"
      ]
     },
     "metadata": {},
     "output_type": "display_data"
    }
   ],
   "source": [
    "sns.barplot(y=num_genres.index, x=num_genres, orient='h')"
   ]
  },
  {
   "cell_type": "code",
   "execution_count": 42,
   "metadata": {},
   "outputs": [
    {
     "name": "stdout",
     "output_type": "stream",
     "text": [
      "The top three genres are: "
     ]
    },
    {
     "data": {
      "text/plain": [
       "drama     725\n",
       "comedy    505\n",
       "action    251\n",
       "dtype: int64"
      ]
     },
     "execution_count": 42,
     "metadata": {},
     "output_type": "execute_result"
    }
   ],
   "source": [
    "# Top-3 genres\n",
    "print(\"The top three genres are: \", end='')\n",
    "num_genres.nlargest(3)"
   ]
  },
  {
   "cell_type": "markdown",
   "metadata": {},
   "source": [
    "### Cross-Connection Analysis\n",
    "* Top-k rated movies: overall, genre, time period, gender, occupation.\n",
    "* Least-k rated movies\n",
    "* Average user rating: gender, number of reviews, genre, occupation, age\n",
    "* Consider graphs"
   ]
  },
  {
   "cell_type": "markdown",
   "metadata": {},
   "source": []
  }
 ],
 "metadata": {
  "kernelspec": {
   "display_name": "data-processing",
   "language": "python",
   "name": "python3"
  },
  "language_info": {
   "codemirror_mode": {
    "name": "ipython",
    "version": 3
   },
   "file_extension": ".py",
   "mimetype": "text/x-python",
   "name": "python",
   "nbconvert_exporter": "python",
   "pygments_lexer": "ipython3",
   "version": "3.11.5"
  }
 },
 "nbformat": 4,
 "nbformat_minor": 2
}
